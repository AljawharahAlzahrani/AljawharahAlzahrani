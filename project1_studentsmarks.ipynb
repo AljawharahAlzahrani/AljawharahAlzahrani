{
  "nbformat": 4,
  "nbformat_minor": 0,
  "metadata": {
    "colab": {
      "name": "project1_studentsmarks.ipynb",
      "provenance": [],
      "collapsed_sections": []
    },
    "kernelspec": {
      "name": "python3",
      "display_name": "Python 3"
    },
    "language_info": {
      "name": "python"
    }
  },
  "cells": [
    {
      "cell_type": "code",
      "execution_count": null,
      "metadata": {
        "colab": {
          "base_uri": "https://localhost:8080/"
        },
        "id": "Jmvs-Vz2P73i",
        "outputId": "4daa7a01-021e-4afc-ec27-ea645d13e366"
      },
      "outputs": [
        {
          "output_type": "stream",
          "name": "stdout",
          "text": [
            "    ID number  Gender Group  Math  Biology  English\n",
            "0   443020000  Female     A    19       15       19\n",
            "1   443020001  Female     B    11       19       20\n",
            "2   443020002    Male     A    15       18       20\n",
            "3   443020003    Male     B    20       17       18\n",
            "4   443020004  Female     B    20       19       17\n",
            "5   443020005    Male     B    17       20       20\n",
            "6   443020006    Male     A    12       18       18\n",
            "7   443020007  Female     A    16       16       20\n",
            "8   443020008    Male     B    14       17       19\n",
            "9   443020009    Male     A    14       16       14\n",
            "10  443020010  Female     B    16       17       19\n",
            "11  443020011    Male     A    20       20       17\n",
            "12  443020012  Female     B    17       18       20\n",
            "13  443020013  Female     B    18       18       17\n",
            "14  443020014  Female     A    18       15       19\n",
            "15  443020015  Female     B    19       19       20\n",
            "16  443020016    Male     A    12       18       15\n",
            "17  443020017    Male     A    19       19       18\n",
            "18  443020018    Male     A    19       14       18\n",
            "19  443020019  Female     B    18       18       19\n",
            "20  443020020  Female     B    20       20       19\n",
            "21  443020021    Male     A    20       19       18\n",
            "22  443020022    Male     A    16       17       17\n",
            "23  443020023  Female     B    18       19       19\n",
            "24  443020024    Male     B    16       18       19\n",
            "25  443020025    Male     B    13       12       15\n",
            "26  443020026  Female     A    11       14       15\n",
            "27  443020027  Female     B    18       18       19\n",
            "28  443020028    Male     A    17       18       19\n",
            "29  443020029    Male     A    16       16       18\n",
            "30  443020030  Female     A    19       19       20\n"
          ]
        }
      ],
      "source": [
        "import pandas as pd #import pandas library\n",
        "marks=pd.read_csv('DBmarks.csv',sep=\";\") #sep=\";\" use to appear separated columns\n",
        "print(marks.to_string()) #Read the dataset\n",
        "\n"
      ]
    },
    {
      "cell_type": "code",
      "source": [
        "print(marks.info()) #show information about dataset like (columns, Dtype, memory usage)"
      ],
      "metadata": {
        "colab": {
          "base_uri": "https://localhost:8080/"
        },
        "id": "sE8pXBI1w-D8",
        "outputId": "cc8b20bc-ab2d-4a90-b037-167a3d0b33ee"
      },
      "execution_count": null,
      "outputs": [
        {
          "output_type": "stream",
          "name": "stdout",
          "text": [
            "<class 'pandas.core.frame.DataFrame'>\n",
            "RangeIndex: 31 entries, 0 to 30\n",
            "Data columns (total 6 columns):\n",
            " #   Column     Non-Null Count  Dtype \n",
            "---  ------     --------------  ----- \n",
            " 0   ID number  31 non-null     int64 \n",
            " 1   Gender     31 non-null     object\n",
            " 2   Group      31 non-null     object\n",
            " 3   Math       31 non-null     int64 \n",
            " 4   Biology    31 non-null     int64 \n",
            " 5   English    31 non-null     int64 \n",
            "dtypes: int64(4), object(2)\n",
            "memory usage: 1.6+ KB\n",
            "None\n"
          ]
        }
      ]
    },
    {
      "cell_type": "code",
      "source": [
        "print(marks.head(7)) # show first 7 rows form dataset when we do not specify the number of rows is determined automatically 5 rows"
      ],
      "metadata": {
        "colab": {
          "base_uri": "https://localhost:8080/"
        },
        "id": "q-f9tS_222as",
        "outputId": "ac35c02e-6657-4d27-8141-b6b992aa0a48"
      },
      "execution_count": null,
      "outputs": [
        {
          "output_type": "stream",
          "name": "stdout",
          "text": [
            "   ID number  Gender Group  Math  Biology  English\n",
            "0  443020000  Female     A    19       15       19\n",
            "1  443020001  Female     B    11       19       20\n",
            "2  443020002    Male     A    15       18       20\n",
            "3  443020003    Male     B    20       17       18\n",
            "4  443020004  Female     B    20       19       17\n",
            "5  443020005    Male     B    17       20       20\n",
            "6  443020006    Male     A    12       18       18\n"
          ]
        }
      ]
    },
    {
      "cell_type": "code",
      "source": [
        "marks=pd.read_csv('DBmarks.csv',sep=\";\")\n",
        "marks.drop('Gender', axis=1, inplace=True) # to drop column'Gender'\n",
        "marks.drop('Group', axis=1, inplace=True) #to drop column 'Group'\n",
        "print(marks)"
      ],
      "metadata": {
        "colab": {
          "base_uri": "https://localhost:8080/"
        },
        "id": "-xKtaZyH6q9R",
        "outputId": "18b53a8a-9bb7-44bc-91b6-857eabb7f798"
      },
      "execution_count": null,
      "outputs": [
        {
          "output_type": "stream",
          "name": "stdout",
          "text": [
            "    ID number  Math  Biology  English\n",
            "0   443020000    19       15       19\n",
            "1   443020001    11       19       20\n",
            "2   443020002    15       18       20\n",
            "3   443020003    20       17       18\n",
            "4   443020004    20       19       17\n",
            "5   443020005    17       20       20\n",
            "6   443020006    12       18       18\n",
            "7   443020007    16       16       20\n",
            "8   443020008    14       17       19\n",
            "9   443020009    14       16       14\n",
            "10  443020010    16       17       19\n",
            "11  443020011    20       20       17\n",
            "12  443020012    17       18       20\n",
            "13  443020013    18       18       17\n",
            "14  443020014    18       15       19\n",
            "15  443020015    19       19       20\n",
            "16  443020016    12       18       15\n",
            "17  443020017    19       19       18\n",
            "18  443020018    19       14       18\n",
            "19  443020019    18       18       19\n",
            "20  443020020    20       20       19\n",
            "21  443020021    20       19       18\n",
            "22  443020022    16       17       17\n",
            "23  443020023    18       19       19\n",
            "24  443020024    16       18       19\n",
            "25  443020025    13       12       15\n",
            "26  443020026    11       14       15\n",
            "27  443020027    18       18       19\n",
            "28  443020028    17       18       19\n",
            "29  443020029    16       16       18\n",
            "30  443020030    19       19       20\n"
          ]
        }
      ]
    },
    {
      "cell_type": "code",
      "source": [
        "print(marks['Math'].min()) #to show lowest Math mark\n",
        "print(marks['Biology'].mode()[0]) #to show the most frequent mark in Biology"
      ],
      "metadata": {
        "colab": {
          "base_uri": "https://localhost:8080/"
        },
        "id": "7PTb2G449NCN",
        "outputId": "56e68b37-26f2-4303-b306-308f307f25f3"
      },
      "execution_count": null,
      "outputs": [
        {
          "output_type": "stream",
          "name": "stdout",
          "text": [
            "11\n",
            "18\n"
          ]
        }
      ]
    },
    {
      "cell_type": "code",
      "source": [
        "print(marks['English'].apply(lambda x: x+2)) #  to Add two marks for every student in English\n"
      ],
      "metadata": {
        "colab": {
          "base_uri": "https://localhost:8080/"
        },
        "id": "1dneqk64BAUf",
        "outputId": "6cca694b-abe6-482e-c559-34c67e1d1cf3"
      },
      "execution_count": null,
      "outputs": [
        {
          "output_type": "stream",
          "name": "stdout",
          "text": [
            "0     21\n",
            "1     22\n",
            "2     22\n",
            "3     20\n",
            "4     19\n",
            "5     22\n",
            "6     20\n",
            "7     22\n",
            "8     21\n",
            "9     16\n",
            "10    21\n",
            "11    19\n",
            "12    22\n",
            "13    19\n",
            "14    21\n",
            "15    22\n",
            "16    17\n",
            "17    20\n",
            "18    20\n",
            "19    21\n",
            "20    21\n",
            "21    20\n",
            "22    19\n",
            "23    21\n",
            "24    21\n",
            "25    17\n",
            "26    17\n",
            "27    21\n",
            "28    21\n",
            "29    20\n",
            "30    22\n",
            "Name: English, dtype: int64\n"
          ]
        }
      ]
    },
    {
      "cell_type": "code",
      "source": [
        "marks=pd.read_csv('DBmarks.csv',sep=\";\")\n",
        "marks['Gender'].value_counts()  # Count the values of each gender "
      ],
      "metadata": {
        "colab": {
          "base_uri": "https://localhost:8080/"
        },
        "id": "gTx9OJTIElZZ",
        "outputId": "77b7eb28-99f1-45ca-cfe3-592803c9fe76"
      },
      "execution_count": null,
      "outputs": [
        {
          "output_type": "execute_result",
          "data": {
            "text/plain": [
              "Male      16\n",
              "Female    15\n",
              "Name: Gender, dtype: int64"
            ]
          },
          "metadata": {},
          "execution_count": 30
        }
      ]
    },
    {
      "cell_type": "code",
      "source": [
        "import matplotlib.pyplot as plt  # import matplotlib library\n",
        "import seaborn as sns  # import seaborn library\n",
        "import numpy as np #import numpy library\n",
        "\n",
        "sns.countplot(x=\"Gender\", data=marks, color=\"c\")  # plot gender column\n",
        "\n",
        "print(plt.show())"
      ],
      "metadata": {
        "colab": {
          "base_uri": "https://localhost:8080/",
          "height": 296
        },
        "id": "ytb8S85ZE5x0",
        "outputId": "b3c6e550-c08d-4975-c5c8-3d3458aecaf7"
      },
      "execution_count": null,
      "outputs": [
        {
          "output_type": "display_data",
          "data": {
            "image/png": "[encoded data removed]",
            "text/plain": [
              "<Figure size 432x288 with 1 Axes>"
            ]
          },
          "metadata": {
            "needs_background": "light"
          }
        },
        {
          "output_type": "stream",
          "name": "stdout",
          "text": [
            "None\n"
          ]
        }
      ]
    },
    {
      "cell_type": "code",
      "source": [
        "print(sns.pairplot(marks))  # plot the pair plot using sns library to analyze the relationship between the columns"
      ],
      "metadata": {
        "colab": {
          "base_uri": "https://localhost:8080/",
          "height": 743
        },
        "id": "byfs_CmoFL-t",
        "outputId": "cacaeb1b-4bce-464c-ada6-b9a021614df8"
      },
      "execution_count": null,
      "outputs": [
        {
          "output_type": "stream",
          "name": "stdout",
          "text": [
            "<seaborn.axisgrid.PairGrid object at 0x7fd7e2ee5190>\n"
          ]
        },
        {
          "output_type": "display_data",
          "data": {
            "image/png": "[encoded data removed]",
            "text/plain": [
              "<Figure size 720x720 with 20 Axes>"
            ]
          },
          "metadata": {
            "needs_background": "light"
          }
        }
      ]
    }
  ]
}